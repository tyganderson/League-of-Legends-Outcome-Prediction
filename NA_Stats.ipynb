{
 "cells": [
  {
   "cell_type": "code",
   "execution_count": 3,
   "id": "a827868d",
   "metadata": {},
   "outputs": [],
   "source": [
    "import requests\n",
    "import pandas as pd\n",
    "from pathlib import Path\n",
    "import time\n",
    "from IPython.display import clear_output"
   ]
  },
  {
   "cell_type": "code",
   "execution_count": 22,
   "id": "6f5299cc",
   "metadata": {},
   "outputs": [
    {
     "name": "stdout",
     "output_type": "stream",
     "text": [
      "Last matchId in csv: 4619508349\n",
      "First matchId in new scan: 4619508348\n"
     ]
    }
   ],
   "source": [
    "df = pd.read_csv('NA_result.csv')\n",
    "matchId = df.loc[len(df)-1]['matchId']\n",
    "matchId = int(matchId[4:])\n",
    "print('Last matchId in csv:',matchId)\n",
    "matchId = matchId-1\n",
    "print('First matchId in new scan:', matchId)"
   ]
  },
  {
   "cell_type": "code",
   "execution_count": 23,
   "id": "34186681",
   "metadata": {
    "scrolled": true
   },
   "outputs": [
    {
     "data": {
      "text/plain": [
       "False"
      ]
     },
     "metadata": {},
     "output_type": "display_data"
    }
   ],
   "source": [
    "key = 'RGAPI-331d979e-3c9d-41cb-bc17-07f1d78ec2ef'\n",
    "url = 'https://americas.api.riotgames.com/lol/match/v5/matches/'\n",
    "query = '{}NA1_{}?api_key={}'.format(url, matchId+1, key)\n",
    "# query = '{}NA1_{}?api_key={}'.format(url, 4619747330, key)\n",
    "\n",
    "response = requests.get(query)\n",
    "json = response.json()\n",
    "display(json['info']['teams'][0]['win'])"
   ]
  },
  {
   "cell_type": "code",
   "execution_count": null,
   "id": "3175224c",
   "metadata": {},
   "outputs": [
    {
     "name": "stdout",
     "output_type": "stream",
     "text": [
      "Waiting for 94 seconds to start again\n"
     ]
    }
   ],
   "source": [
    "countAdded = 0\n",
    "countTried = 1\n",
    "startTime = round(time.time())\n",
    "\n",
    "while(countAdded < 50000):\n",
    "  query = '{}NA1_{}?api_key={}'.format(url, matchId, key)\n",
    "  response = requests.get(query)\n",
    "  json = response.json()\n",
    "\n",
    "  if response.status_code == 200:\n",
    "    if json['info']['gameMode'] != 'ARAM':\n",
    "\n",
    "      participants = json['info']['participants'][::]\n",
    "      # gameId = json['metadata']['matchId']\n",
    "\n",
    "      champIds = []\n",
    "      champNames = []\n",
    "      index = 1\n",
    "      for p in participants:\n",
    "        \n",
    "        champIds.append(p['championId'])\n",
    "        champNames.append(p['championName'])\n",
    "\n",
    "      champs = {'matchId': json['metadata']['matchId'],\n",
    "                'blue1':champIds[0],\n",
    "                'blue2':champIds[1],\n",
    "                'blue3':champIds[2],\n",
    "                'blue4':champIds[3],\n",
    "                'blue5':champIds[4],\n",
    "                'red1':champIds[5],\n",
    "                'red2':champIds[6],\n",
    "                'red3':champIds[7],\n",
    "                'red4':champIds[8],\n",
    "                'red5':champIds[9],\n",
    "                'blueWin':json['info']['teams'][0]['win'] \n",
    "      }\n",
    "      \n",
    "      \n",
    "      df.loc[len(df)] = champs\n",
    "      print('matchId {} added, {} total matches added.'.format(json['metadata']['matchId'], countAdded))\n",
    "      countAdded += 1\n",
    "  matchId -= 1\n",
    "  countTried += 1\n",
    "  if countTried == 99:\n",
    "    timeElasped = round(time.time()) - startTime\n",
    "    timeToWait = 120 - timeElasped\n",
    "    if timeToWait < 0:\n",
    "        timeToWait = 0\n",
    "    print('Waiting for', timeToWait, 'seconds to start again')\n",
    "    df.to_csv('NA_result.csv')\n",
    "    time.sleep(timeToWait+2)\n",
    "    print('Restarting queries')\n",
    "    startTime = round(time.time())\n",
    "    countTried = 1\n",
    "    clear_output(wait=True)\n",
    "# df_champions.drop([0])\n",
    "# display(df_champions)"
   ]
  },
  {
   "cell_type": "code",
   "execution_count": null,
   "id": "4d216cdd",
   "metadata": {},
   "outputs": [],
   "source": []
  }
 ],
 "metadata": {
  "kernelspec": {
   "display_name": "Python 3 (ipykernel)",
   "language": "python",
   "name": "python3"
  },
  "language_info": {
   "codemirror_mode": {
    "name": "ipython",
    "version": 3
   },
   "file_extension": ".py",
   "mimetype": "text/x-python",
   "name": "python",
   "nbconvert_exporter": "python",
   "pygments_lexer": "ipython3",
   "version": "3.10.9"
  }
 },
 "nbformat": 4,
 "nbformat_minor": 5
}
